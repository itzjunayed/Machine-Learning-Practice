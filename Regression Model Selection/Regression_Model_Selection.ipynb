{
  "nbformat": 4,
  "nbformat_minor": 0,
  "metadata": {
    "colab": {
      "provenance": []
    },
    "kernelspec": {
      "name": "python3",
      "display_name": "Python 3"
    },
    "language_info": {
      "name": "python"
    }
  },
  "cells": [
    {
      "cell_type": "markdown",
      "source": [
        "Import Library"
      ],
      "metadata": {
        "id": "S8CMXCWUgZt9"
      }
    },
    {
      "cell_type": "code",
      "execution_count": 1,
      "metadata": {
        "id": "WVewtF4_e2LT"
      },
      "outputs": [],
      "source": [
        "import numpy as np\n",
        "import pandas as pd\n",
        "import matplotlib.pyplot as plt"
      ]
    },
    {
      "cell_type": "markdown",
      "source": [
        "Load Dataset from Local Directory"
      ],
      "metadata": {
        "id": "ENh_2-JOhIdx"
      }
    },
    {
      "cell_type": "code",
      "source": [
        "from google.colab import files\n",
        "uploaded = files.upload()"
      ],
      "metadata": {
        "colab": {
          "base_uri": "https://localhost:8080/",
          "height": 73
        },
        "id": "yAOO5LergouN",
        "outputId": "85a8a246-552f-4a6b-f828-d1cf0ccda43c"
      },
      "execution_count": 25,
      "outputs": [
        {
          "output_type": "display_data",
          "data": {
            "text/plain": [
              "<IPython.core.display.HTML object>"
            ],
            "text/html": [
              "\n",
              "     <input type=\"file\" id=\"files-db594282-8927-4414-a10e-5cd858177cb6\" name=\"files[]\" multiple disabled\n",
              "        style=\"border:none\" />\n",
              "     <output id=\"result-db594282-8927-4414-a10e-5cd858177cb6\">\n",
              "      Upload widget is only available when the cell has been executed in the\n",
              "      current browser session. Please rerun this cell to enable.\n",
              "      </output>\n",
              "      <script>// Copyright 2017 Google LLC\n",
              "//\n",
              "// Licensed under the Apache License, Version 2.0 (the \"License\");\n",
              "// you may not use this file except in compliance with the License.\n",
              "// You may obtain a copy of the License at\n",
              "//\n",
              "//      http://www.apache.org/licenses/LICENSE-2.0\n",
              "//\n",
              "// Unless required by applicable law or agreed to in writing, software\n",
              "// distributed under the License is distributed on an \"AS IS\" BASIS,\n",
              "// WITHOUT WARRANTIES OR CONDITIONS OF ANY KIND, either express or implied.\n",
              "// See the License for the specific language governing permissions and\n",
              "// limitations under the License.\n",
              "\n",
              "/**\n",
              " * @fileoverview Helpers for google.colab Python module.\n",
              " */\n",
              "(function(scope) {\n",
              "function span(text, styleAttributes = {}) {\n",
              "  const element = document.createElement('span');\n",
              "  element.textContent = text;\n",
              "  for (const key of Object.keys(styleAttributes)) {\n",
              "    element.style[key] = styleAttributes[key];\n",
              "  }\n",
              "  return element;\n",
              "}\n",
              "\n",
              "// Max number of bytes which will be uploaded at a time.\n",
              "const MAX_PAYLOAD_SIZE = 100 * 1024;\n",
              "\n",
              "function _uploadFiles(inputId, outputId) {\n",
              "  const steps = uploadFilesStep(inputId, outputId);\n",
              "  const outputElement = document.getElementById(outputId);\n",
              "  // Cache steps on the outputElement to make it available for the next call\n",
              "  // to uploadFilesContinue from Python.\n",
              "  outputElement.steps = steps;\n",
              "\n",
              "  return _uploadFilesContinue(outputId);\n",
              "}\n",
              "\n",
              "// This is roughly an async generator (not supported in the browser yet),\n",
              "// where there are multiple asynchronous steps and the Python side is going\n",
              "// to poll for completion of each step.\n",
              "// This uses a Promise to block the python side on completion of each step,\n",
              "// then passes the result of the previous step as the input to the next step.\n",
              "function _uploadFilesContinue(outputId) {\n",
              "  const outputElement = document.getElementById(outputId);\n",
              "  const steps = outputElement.steps;\n",
              "\n",
              "  const next = steps.next(outputElement.lastPromiseValue);\n",
              "  return Promise.resolve(next.value.promise).then((value) => {\n",
              "    // Cache the last promise value to make it available to the next\n",
              "    // step of the generator.\n",
              "    outputElement.lastPromiseValue = value;\n",
              "    return next.value.response;\n",
              "  });\n",
              "}\n",
              "\n",
              "/**\n",
              " * Generator function which is called between each async step of the upload\n",
              " * process.\n",
              " * @param {string} inputId Element ID of the input file picker element.\n",
              " * @param {string} outputId Element ID of the output display.\n",
              " * @return {!Iterable<!Object>} Iterable of next steps.\n",
              " */\n",
              "function* uploadFilesStep(inputId, outputId) {\n",
              "  const inputElement = document.getElementById(inputId);\n",
              "  inputElement.disabled = false;\n",
              "\n",
              "  const outputElement = document.getElementById(outputId);\n",
              "  outputElement.innerHTML = '';\n",
              "\n",
              "  const pickedPromise = new Promise((resolve) => {\n",
              "    inputElement.addEventListener('change', (e) => {\n",
              "      resolve(e.target.files);\n",
              "    });\n",
              "  });\n",
              "\n",
              "  const cancel = document.createElement('button');\n",
              "  inputElement.parentElement.appendChild(cancel);\n",
              "  cancel.textContent = 'Cancel upload';\n",
              "  const cancelPromise = new Promise((resolve) => {\n",
              "    cancel.onclick = () => {\n",
              "      resolve(null);\n",
              "    };\n",
              "  });\n",
              "\n",
              "  // Wait for the user to pick the files.\n",
              "  const files = yield {\n",
              "    promise: Promise.race([pickedPromise, cancelPromise]),\n",
              "    response: {\n",
              "      action: 'starting',\n",
              "    }\n",
              "  };\n",
              "\n",
              "  cancel.remove();\n",
              "\n",
              "  // Disable the input element since further picks are not allowed.\n",
              "  inputElement.disabled = true;\n",
              "\n",
              "  if (!files) {\n",
              "    return {\n",
              "      response: {\n",
              "        action: 'complete',\n",
              "      }\n",
              "    };\n",
              "  }\n",
              "\n",
              "  for (const file of files) {\n",
              "    const li = document.createElement('li');\n",
              "    li.append(span(file.name, {fontWeight: 'bold'}));\n",
              "    li.append(span(\n",
              "        `(${file.type || 'n/a'}) - ${file.size} bytes, ` +\n",
              "        `last modified: ${\n",
              "            file.lastModifiedDate ? file.lastModifiedDate.toLocaleDateString() :\n",
              "                                    'n/a'} - `));\n",
              "    const percent = span('0% done');\n",
              "    li.appendChild(percent);\n",
              "\n",
              "    outputElement.appendChild(li);\n",
              "\n",
              "    const fileDataPromise = new Promise((resolve) => {\n",
              "      const reader = new FileReader();\n",
              "      reader.onload = (e) => {\n",
              "        resolve(e.target.result);\n",
              "      };\n",
              "      reader.readAsArrayBuffer(file);\n",
              "    });\n",
              "    // Wait for the data to be ready.\n",
              "    let fileData = yield {\n",
              "      promise: fileDataPromise,\n",
              "      response: {\n",
              "        action: 'continue',\n",
              "      }\n",
              "    };\n",
              "\n",
              "    // Use a chunked sending to avoid message size limits. See b/62115660.\n",
              "    let position = 0;\n",
              "    do {\n",
              "      const length = Math.min(fileData.byteLength - position, MAX_PAYLOAD_SIZE);\n",
              "      const chunk = new Uint8Array(fileData, position, length);\n",
              "      position += length;\n",
              "\n",
              "      const base64 = btoa(String.fromCharCode.apply(null, chunk));\n",
              "      yield {\n",
              "        response: {\n",
              "          action: 'append',\n",
              "          file: file.name,\n",
              "          data: base64,\n",
              "        },\n",
              "      };\n",
              "\n",
              "      let percentDone = fileData.byteLength === 0 ?\n",
              "          100 :\n",
              "          Math.round((position / fileData.byteLength) * 100);\n",
              "      percent.textContent = `${percentDone}% done`;\n",
              "\n",
              "    } while (position < fileData.byteLength);\n",
              "  }\n",
              "\n",
              "  // All done.\n",
              "  yield {\n",
              "    response: {\n",
              "      action: 'complete',\n",
              "    }\n",
              "  };\n",
              "}\n",
              "\n",
              "scope.google = scope.google || {};\n",
              "scope.google.colab = scope.google.colab || {};\n",
              "scope.google.colab._files = {\n",
              "  _uploadFiles,\n",
              "  _uploadFilesContinue,\n",
              "};\n",
              "})(self);\n",
              "</script> "
            ]
          },
          "metadata": {}
        },
        {
          "output_type": "stream",
          "name": "stdout",
          "text": [
            "Saving CarPrice_Assignment.csv to CarPrice_Assignment.csv\n"
          ]
        }
      ]
    },
    {
      "cell_type": "markdown",
      "source": [
        "Importing the Dataset"
      ],
      "metadata": {
        "id": "J_OqADCViDqC"
      }
    },
    {
      "cell_type": "code",
      "source": [
        "dataset = pd.read_csv('CarPrice_Assignment.csv')\n",
        "dataset = dataset.drop(['car_ID'], axis=1)\n",
        "Xdata = dataset.drop('price', axis='columns')\n",
        "numericalCols = Xdata.select_dtypes(exclude=['object']).columns\n",
        "X = Xdata[numericalCols]\n",
        "y = dataset.iloc[:, -1].values\n",
        "ysvm = y.reshape(len(y), 1)\n",
        "print(y)\n",
        "print(ysvm)"
      ],
      "metadata": {
        "colab": {
          "base_uri": "https://localhost:8080/"
        },
        "id": "DQR4Y48oh_mr",
        "outputId": "ae9c73b7-42a7-43e7-9956-af7d7930eec3"
      },
      "execution_count": 28,
      "outputs": [
        {
          "output_type": "stream",
          "name": "stdout",
          "text": [
            "[13495.    16500.    16500.    13950.    17450.    15250.    17710.\n",
            " 18920.    23875.    17859.167 16430.    16925.    20970.    21105.\n",
            " 24565.    30760.    41315.    36880.     5151.     6295.     6575.\n",
            "  5572.     6377.     7957.     6229.     6692.     7609.     8558.\n",
            "  8921.    12964.     6479.     6855.     5399.     6529.     7129.\n",
            "  7295.     7295.     7895.     9095.     8845.    10295.    12945.\n",
            " 10345.     6785.     8916.5    8916.5   11048.    32250.    35550.\n",
            " 36000.     5195.     6095.     6795.     6695.     7395.    10945.\n",
            " 11845.    13645.    15645.     8845.     8495.    10595.    10245.\n",
            " 10795.    11245.    18280.    18344.    25552.    28248.    28176.\n",
            " 31600.    34184.    35056.    40960.    45400.    16503.     5389.\n",
            "  6189.     6669.     7689.     9959.     8499.    12629.    14869.\n",
            " 14489.     6989.     8189.     9279.     9279.     5499.     7099.\n",
            "  6649.     6849.     7349.     7299.     7799.     7499.     7999.\n",
            "  8249.     8949.     9549.    13499.    14399.    13499.    17199.\n",
            " 19699.    18399.    11900.    13200.    12440.    13860.    15580.\n",
            " 16900.    16695.    17075.    16630.    17950.    18150.     5572.\n",
            "  7957.     6229.     6692.     7609.     8921.    12764.    22018.\n",
            " 32528.    34028.    37028.    31400.5    9295.     9895.    11850.\n",
            " 12170.    15040.    15510.    18150.    18620.     5118.     7053.\n",
            "  7603.     7126.     7775.     9960.     9233.    11259.     7463.\n",
            " 10198.     8013.    11694.     5348.     6338.     6488.     6918.\n",
            "  7898.     8778.     6938.     7198.     7898.     7788.     7738.\n",
            "  8358.     9258.     8058.     8238.     9298.     9538.     8449.\n",
            "  9639.     9989.    11199.    11549.    17669.     8948.    10698.\n",
            "  9988.    10898.    11248.    16558.    15998.    15690.    15750.\n",
            "  7775.     7975.     7995.     8195.     8495.     9495.     9995.\n",
            " 11595.     9980.    13295.    13845.    12290.    12940.    13415.\n",
            " 15985.    16515.    18420.    18950.    16845.    19045.    21485.\n",
            " 22470.    22625.   ]\n",
            "[[13495.   ]\n",
            " [16500.   ]\n",
            " [16500.   ]\n",
            " [13950.   ]\n",
            " [17450.   ]\n",
            " [15250.   ]\n",
            " [17710.   ]\n",
            " [18920.   ]\n",
            " [23875.   ]\n",
            " [17859.167]\n",
            " [16430.   ]\n",
            " [16925.   ]\n",
            " [20970.   ]\n",
            " [21105.   ]\n",
            " [24565.   ]\n",
            " [30760.   ]\n",
            " [41315.   ]\n",
            " [36880.   ]\n",
            " [ 5151.   ]\n",
            " [ 6295.   ]\n",
            " [ 6575.   ]\n",
            " [ 5572.   ]\n",
            " [ 6377.   ]\n",
            " [ 7957.   ]\n",
            " [ 6229.   ]\n",
            " [ 6692.   ]\n",
            " [ 7609.   ]\n",
            " [ 8558.   ]\n",
            " [ 8921.   ]\n",
            " [12964.   ]\n",
            " [ 6479.   ]\n",
            " [ 6855.   ]\n",
            " [ 5399.   ]\n",
            " [ 6529.   ]\n",
            " [ 7129.   ]\n",
            " [ 7295.   ]\n",
            " [ 7295.   ]\n",
            " [ 7895.   ]\n",
            " [ 9095.   ]\n",
            " [ 8845.   ]\n",
            " [10295.   ]\n",
            " [12945.   ]\n",
            " [10345.   ]\n",
            " [ 6785.   ]\n",
            " [ 8916.5  ]\n",
            " [ 8916.5  ]\n",
            " [11048.   ]\n",
            " [32250.   ]\n",
            " [35550.   ]\n",
            " [36000.   ]\n",
            " [ 5195.   ]\n",
            " [ 6095.   ]\n",
            " [ 6795.   ]\n",
            " [ 6695.   ]\n",
            " [ 7395.   ]\n",
            " [10945.   ]\n",
            " [11845.   ]\n",
            " [13645.   ]\n",
            " [15645.   ]\n",
            " [ 8845.   ]\n",
            " [ 8495.   ]\n",
            " [10595.   ]\n",
            " [10245.   ]\n",
            " [10795.   ]\n",
            " [11245.   ]\n",
            " [18280.   ]\n",
            " [18344.   ]\n",
            " [25552.   ]\n",
            " [28248.   ]\n",
            " [28176.   ]\n",
            " [31600.   ]\n",
            " [34184.   ]\n",
            " [35056.   ]\n",
            " [40960.   ]\n",
            " [45400.   ]\n",
            " [16503.   ]\n",
            " [ 5389.   ]\n",
            " [ 6189.   ]\n",
            " [ 6669.   ]\n",
            " [ 7689.   ]\n",
            " [ 9959.   ]\n",
            " [ 8499.   ]\n",
            " [12629.   ]\n",
            " [14869.   ]\n",
            " [14489.   ]\n",
            " [ 6989.   ]\n",
            " [ 8189.   ]\n",
            " [ 9279.   ]\n",
            " [ 9279.   ]\n",
            " [ 5499.   ]\n",
            " [ 7099.   ]\n",
            " [ 6649.   ]\n",
            " [ 6849.   ]\n",
            " [ 7349.   ]\n",
            " [ 7299.   ]\n",
            " [ 7799.   ]\n",
            " [ 7499.   ]\n",
            " [ 7999.   ]\n",
            " [ 8249.   ]\n",
            " [ 8949.   ]\n",
            " [ 9549.   ]\n",
            " [13499.   ]\n",
            " [14399.   ]\n",
            " [13499.   ]\n",
            " [17199.   ]\n",
            " [19699.   ]\n",
            " [18399.   ]\n",
            " [11900.   ]\n",
            " [13200.   ]\n",
            " [12440.   ]\n",
            " [13860.   ]\n",
            " [15580.   ]\n",
            " [16900.   ]\n",
            " [16695.   ]\n",
            " [17075.   ]\n",
            " [16630.   ]\n",
            " [17950.   ]\n",
            " [18150.   ]\n",
            " [ 5572.   ]\n",
            " [ 7957.   ]\n",
            " [ 6229.   ]\n",
            " [ 6692.   ]\n",
            " [ 7609.   ]\n",
            " [ 8921.   ]\n",
            " [12764.   ]\n",
            " [22018.   ]\n",
            " [32528.   ]\n",
            " [34028.   ]\n",
            " [37028.   ]\n",
            " [31400.5  ]\n",
            " [ 9295.   ]\n",
            " [ 9895.   ]\n",
            " [11850.   ]\n",
            " [12170.   ]\n",
            " [15040.   ]\n",
            " [15510.   ]\n",
            " [18150.   ]\n",
            " [18620.   ]\n",
            " [ 5118.   ]\n",
            " [ 7053.   ]\n",
            " [ 7603.   ]\n",
            " [ 7126.   ]\n",
            " [ 7775.   ]\n",
            " [ 9960.   ]\n",
            " [ 9233.   ]\n",
            " [11259.   ]\n",
            " [ 7463.   ]\n",
            " [10198.   ]\n",
            " [ 8013.   ]\n",
            " [11694.   ]\n",
            " [ 5348.   ]\n",
            " [ 6338.   ]\n",
            " [ 6488.   ]\n",
            " [ 6918.   ]\n",
            " [ 7898.   ]\n",
            " [ 8778.   ]\n",
            " [ 6938.   ]\n",
            " [ 7198.   ]\n",
            " [ 7898.   ]\n",
            " [ 7788.   ]\n",
            " [ 7738.   ]\n",
            " [ 8358.   ]\n",
            " [ 9258.   ]\n",
            " [ 8058.   ]\n",
            " [ 8238.   ]\n",
            " [ 9298.   ]\n",
            " [ 9538.   ]\n",
            " [ 8449.   ]\n",
            " [ 9639.   ]\n",
            " [ 9989.   ]\n",
            " [11199.   ]\n",
            " [11549.   ]\n",
            " [17669.   ]\n",
            " [ 8948.   ]\n",
            " [10698.   ]\n",
            " [ 9988.   ]\n",
            " [10898.   ]\n",
            " [11248.   ]\n",
            " [16558.   ]\n",
            " [15998.   ]\n",
            " [15690.   ]\n",
            " [15750.   ]\n",
            " [ 7775.   ]\n",
            " [ 7975.   ]\n",
            " [ 7995.   ]\n",
            " [ 8195.   ]\n",
            " [ 8495.   ]\n",
            " [ 9495.   ]\n",
            " [ 9995.   ]\n",
            " [11595.   ]\n",
            " [ 9980.   ]\n",
            " [13295.   ]\n",
            " [13845.   ]\n",
            " [12290.   ]\n",
            " [12940.   ]\n",
            " [13415.   ]\n",
            " [15985.   ]\n",
            " [16515.   ]\n",
            " [18420.   ]\n",
            " [18950.   ]\n",
            " [16845.   ]\n",
            " [19045.   ]\n",
            " [21485.   ]\n",
            " [22470.   ]\n",
            " [22625.   ]]\n"
          ]
        }
      ]
    },
    {
      "cell_type": "markdown",
      "source": [
        "Splitting the dataset into the training and test set"
      ],
      "metadata": {
        "id": "ArcVveR6iwpQ"
      }
    },
    {
      "cell_type": "code",
      "source": [
        "from sklearn.model_selection import train_test_split\n",
        "X_train, X_test, y_train, y_test = train_test_split(X, y, test_size = 0.20, random_state = 0)\n",
        "X_trainsvm, X_testsvm, y_trainsvm, y_testsvm = train_test_split(X, ysvm, test_size = 0.20, random_state = 0)"
      ],
      "metadata": {
        "id": "15LDTIQ9ipra"
      },
      "execution_count": 29,
      "outputs": []
    },
    {
      "cell_type": "markdown",
      "source": [
        "Importing Machine Learning Algorithms"
      ],
      "metadata": {
        "id": "cZ7v9cixjKz9"
      }
    },
    {
      "cell_type": "code",
      "source": [
        "from sklearn.linear_model import LinearRegression\n",
        "from sklearn.preprocessing import PolynomialFeatures\n",
        "from sklearn.ensemble import RandomForestRegressor\n",
        "from sklearn.tree import DecisionTreeRegressor\n",
        "from sklearn.svm import SVR"
      ],
      "metadata": {
        "id": "s_dNU2iKjKEy"
      },
      "execution_count": 30,
      "outputs": []
    },
    {
      "cell_type": "markdown",
      "source": [
        "Initializing different Regression algorithms"
      ],
      "metadata": {
        "id": "gol1WsMnjvAb"
      }
    },
    {
      "cell_type": "code",
      "source": [
        "from sklearn.preprocessing import StandardScaler\n",
        "\n",
        "modelLR = LinearRegression()\n",
        "\n",
        "poly_reg = PolynomialFeatures(degree=4)\n",
        "X_poly = poly_reg.fit_transform(X_train)\n",
        "modelPLR = LinearRegression()\n",
        "\n",
        "modelRFR = RandomForestRegressor(n_estimators=10, random_state=0)\n",
        "\n",
        "modelDTR = DecisionTreeRegressor(random_state=0)\n",
        "\n",
        "modelSVR = SVR(kernel='rbf')\n",
        "\n",
        "sc_X = StandardScaler()\n",
        "sc_y = StandardScaler()\n",
        "X_trainsvm = sc_X.fit_transform(X_trainsvm)\n",
        "y_trainsvm = sc_y.fit_transform(y_trainsvm)"
      ],
      "metadata": {
        "id": "oSb2wk47jtjK"
      },
      "execution_count": 31,
      "outputs": []
    },
    {
      "cell_type": "markdown",
      "source": [
        "Training Regression algorithm"
      ],
      "metadata": {
        "id": "jBqhoN--k6Fv"
      }
    },
    {
      "cell_type": "code",
      "source": [
        "modelLR.fit(X_train, y_train)\n",
        "modelPLR.fit(X_poly, y_train)\n",
        "modelRFR.fit(X_train, y_train)\n",
        "modelDTR.fit(X_train, y_train)\n",
        "modelSVR.fit(X_trainsvm, y_trainsvm)"
      ],
      "metadata": {
        "colab": {
          "base_uri": "https://localhost:8080/",
          "height": 109
        },
        "id": "dVvWYZuHk08S",
        "outputId": "a5d6f857-16a7-4296-f358-7066d8213960"
      },
      "execution_count": 32,
      "outputs": [
        {
          "output_type": "stream",
          "name": "stderr",
          "text": [
            "/usr/local/lib/python3.9/dist-packages/sklearn/utils/validation.py:1143: DataConversionWarning: A column-vector y was passed when a 1d array was expected. Please change the shape of y to (n_samples, ), for example using ravel().\n",
            "  y = column_or_1d(y, warn=True)\n"
          ]
        },
        {
          "output_type": "execute_result",
          "data": {
            "text/plain": [
              "SVR()"
            ],
            "text/html": [
              "<style>#sk-container-id-3 {color: black;background-color: white;}#sk-container-id-3 pre{padding: 0;}#sk-container-id-3 div.sk-toggleable {background-color: white;}#sk-container-id-3 label.sk-toggleable__label {cursor: pointer;display: block;width: 100%;margin-bottom: 0;padding: 0.3em;box-sizing: border-box;text-align: center;}#sk-container-id-3 label.sk-toggleable__label-arrow:before {content: \"▸\";float: left;margin-right: 0.25em;color: #696969;}#sk-container-id-3 label.sk-toggleable__label-arrow:hover:before {color: black;}#sk-container-id-3 div.sk-estimator:hover label.sk-toggleable__label-arrow:before {color: black;}#sk-container-id-3 div.sk-toggleable__content {max-height: 0;max-width: 0;overflow: hidden;text-align: left;background-color: #f0f8ff;}#sk-container-id-3 div.sk-toggleable__content pre {margin: 0.2em;color: black;border-radius: 0.25em;background-color: #f0f8ff;}#sk-container-id-3 input.sk-toggleable__control:checked~div.sk-toggleable__content {max-height: 200px;max-width: 100%;overflow: auto;}#sk-container-id-3 input.sk-toggleable__control:checked~label.sk-toggleable__label-arrow:before {content: \"▾\";}#sk-container-id-3 div.sk-estimator input.sk-toggleable__control:checked~label.sk-toggleable__label {background-color: #d4ebff;}#sk-container-id-3 div.sk-label input.sk-toggleable__control:checked~label.sk-toggleable__label {background-color: #d4ebff;}#sk-container-id-3 input.sk-hidden--visually {border: 0;clip: rect(1px 1px 1px 1px);clip: rect(1px, 1px, 1px, 1px);height: 1px;margin: -1px;overflow: hidden;padding: 0;position: absolute;width: 1px;}#sk-container-id-3 div.sk-estimator {font-family: monospace;background-color: #f0f8ff;border: 1px dotted black;border-radius: 0.25em;box-sizing: border-box;margin-bottom: 0.5em;}#sk-container-id-3 div.sk-estimator:hover {background-color: #d4ebff;}#sk-container-id-3 div.sk-parallel-item::after {content: \"\";width: 100%;border-bottom: 1px solid gray;flex-grow: 1;}#sk-container-id-3 div.sk-label:hover label.sk-toggleable__label {background-color: #d4ebff;}#sk-container-id-3 div.sk-serial::before {content: \"\";position: absolute;border-left: 1px solid gray;box-sizing: border-box;top: 0;bottom: 0;left: 50%;z-index: 0;}#sk-container-id-3 div.sk-serial {display: flex;flex-direction: column;align-items: center;background-color: white;padding-right: 0.2em;padding-left: 0.2em;position: relative;}#sk-container-id-3 div.sk-item {position: relative;z-index: 1;}#sk-container-id-3 div.sk-parallel {display: flex;align-items: stretch;justify-content: center;background-color: white;position: relative;}#sk-container-id-3 div.sk-item::before, #sk-container-id-3 div.sk-parallel-item::before {content: \"\";position: absolute;border-left: 1px solid gray;box-sizing: border-box;top: 0;bottom: 0;left: 50%;z-index: -1;}#sk-container-id-3 div.sk-parallel-item {display: flex;flex-direction: column;z-index: 1;position: relative;background-color: white;}#sk-container-id-3 div.sk-parallel-item:first-child::after {align-self: flex-end;width: 50%;}#sk-container-id-3 div.sk-parallel-item:last-child::after {align-self: flex-start;width: 50%;}#sk-container-id-3 div.sk-parallel-item:only-child::after {width: 0;}#sk-container-id-3 div.sk-dashed-wrapped {border: 1px dashed gray;margin: 0 0.4em 0.5em 0.4em;box-sizing: border-box;padding-bottom: 0.4em;background-color: white;}#sk-container-id-3 div.sk-label label {font-family: monospace;font-weight: bold;display: inline-block;line-height: 1.2em;}#sk-container-id-3 div.sk-label-container {text-align: center;}#sk-container-id-3 div.sk-container {/* jupyter's `normalize.less` sets `[hidden] { display: none; }` but bootstrap.min.css set `[hidden] { display: none !important; }` so we also need the `!important` here to be able to override the default hidden behavior on the sphinx rendered scikit-learn.org. See: https://github.com/scikit-learn/scikit-learn/issues/21755 */display: inline-block !important;position: relative;}#sk-container-id-3 div.sk-text-repr-fallback {display: none;}</style><div id=\"sk-container-id-3\" class=\"sk-top-container\"><div class=\"sk-text-repr-fallback\"><pre>SVR()</pre><b>In a Jupyter environment, please rerun this cell to show the HTML representation or trust the notebook. <br />On GitHub, the HTML representation is unable to render, please try loading this page with nbviewer.org.</b></div><div class=\"sk-container\" hidden><div class=\"sk-item\"><div class=\"sk-estimator sk-toggleable\"><input class=\"sk-toggleable__control sk-hidden--visually\" id=\"sk-estimator-id-3\" type=\"checkbox\" checked><label for=\"sk-estimator-id-3\" class=\"sk-toggleable__label sk-toggleable__label-arrow\">SVR</label><div class=\"sk-toggleable__content\"><pre>SVR()</pre></div></div></div></div></div>"
            ]
          },
          "metadata": {},
          "execution_count": 32
        }
      ]
    },
    {
      "cell_type": "markdown",
      "source": [
        "Predicting the test set for validation"
      ],
      "metadata": {
        "id": "wwjUAXnSlc4H"
      }
    },
    {
      "cell_type": "code",
      "source": [
        "modelLRy_pred = modelLR.predict(X_test)\n",
        "modelPLRy_pred = modelPLR.predict(poly_reg.transform(X_test))\n",
        "modelRFRy_pred = modelRFR.predict(X_test)\n",
        "modelDTRy_pred = modelDTR.predict(X_test)\n",
        "# modelSVRy_pred = sc_y.inverse_transform(modelSVR.predict(sc_X.transform(X_test)))"
      ],
      "metadata": {
        "id": "sSRAJx-jlTqx"
      },
      "execution_count": 34,
      "outputs": []
    },
    {
      "cell_type": "markdown",
      "source": [
        "Evaluating the Model Performance"
      ],
      "metadata": {
        "id": "30Ak_FqMmxrg"
      }
    },
    {
      "cell_type": "code",
      "source": [
        "from sklearn.metrics import r2_score \n",
        "print(\"Linear Regression Accuracy: {}\".format(r2_score (y_test, modelLRy_pred)))\n",
        "print(\"Polynomial Regression Accuracy: {}\".format(r2_score(y_test, modelPLRy_pred)))\n",
        "print(\"Random Forest Regression Accuracy: {}\".format(r2_score(y_test, modelRFRy_pred)))\n",
        "print(\"Decision Treee Regression Accuracy: {}\".format(r2_score(y_test, modelDTRy_pred)))\n",
        "# print(\"Support Vector Regression Accuracy: {}\".format(r2_score(y_test, modelSVRy_pred)))"
      ],
      "metadata": {
        "colab": {
          "base_uri": "https://localhost:8080/"
        },
        "id": "HOxC6SAxmFca",
        "outputId": "c9682b68-1e34-4396-8673-cf4103407abf"
      },
      "execution_count": 35,
      "outputs": [
        {
          "output_type": "stream",
          "name": "stdout",
          "text": [
            "Linear Regression Accuracy: 0.815461783189196\n",
            "Polynomial Regression Accuracy: -795.2039031869009\n",
            "Random Forest Regression Accuracy: 0.898293680543916\n",
            "Decision Treee Regression Accuracy: 0.8558001106879025\n"
          ]
        }
      ]
    }
  ]
}
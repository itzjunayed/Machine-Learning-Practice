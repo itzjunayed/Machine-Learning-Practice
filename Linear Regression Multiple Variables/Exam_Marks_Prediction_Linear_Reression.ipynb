{
  "nbformat": 4,
  "nbformat_minor": 0,
  "metadata": {
    "colab": {
      "provenance": []
    },
    "kernelspec": {
      "name": "python3",
      "display_name": "Python 3"
    },
    "language_info": {
      "name": "python"
    }
  },
  "cells": [
    {
      "cell_type": "markdown",
      "source": [
        "Import Library"
      ],
      "metadata": {
        "id": "sjWIHQPZfdYU"
      }
    },
    {
      "cell_type": "code",
      "execution_count": 1,
      "metadata": {
        "id": "yQcggR4-ew6K"
      },
      "outputs": [],
      "source": [
        "import pandas as pd\n",
        "from sklearn.linear_model import LinearRegression"
      ]
    },
    {
      "cell_type": "markdown",
      "source": [
        "Load Dataset from local directory"
      ],
      "metadata": {
        "id": "grqjTgYYfr_x"
      }
    },
    {
      "cell_type": "code",
      "source": [
        "from google.colab import files\n",
        "uploaded = files.upload()"
      ],
      "metadata": {
        "colab": {
          "base_uri": "https://localhost:8080/",
          "height": 73
        },
        "id": "y4sqwPqlfrTl",
        "outputId": "f778ca0e-6fb3-4236-9e22-85a8de5add2d"
      },
      "execution_count": 2,
      "outputs": [
        {
          "output_type": "display_data",
          "data": {
            "text/plain": [
              "<IPython.core.display.HTML object>"
            ],
            "text/html": [
              "\n",
              "     <input type=\"file\" id=\"files-34d2f53d-da65-4f3f-806d-a8767ab149df\" name=\"files[]\" multiple disabled\n",
              "        style=\"border:none\" />\n",
              "     <output id=\"result-34d2f53d-da65-4f3f-806d-a8767ab149df\">\n",
              "      Upload widget is only available when the cell has been executed in the\n",
              "      current browser session. Please rerun this cell to enable.\n",
              "      </output>\n",
              "      <script>// Copyright 2017 Google LLC\n",
              "//\n",
              "// Licensed under the Apache License, Version 2.0 (the \"License\");\n",
              "// you may not use this file except in compliance with the License.\n",
              "// You may obtain a copy of the License at\n",
              "//\n",
              "//      http://www.apache.org/licenses/LICENSE-2.0\n",
              "//\n",
              "// Unless required by applicable law or agreed to in writing, software\n",
              "// distributed under the License is distributed on an \"AS IS\" BASIS,\n",
              "// WITHOUT WARRANTIES OR CONDITIONS OF ANY KIND, either express or implied.\n",
              "// See the License for the specific language governing permissions and\n",
              "// limitations under the License.\n",
              "\n",
              "/**\n",
              " * @fileoverview Helpers for google.colab Python module.\n",
              " */\n",
              "(function(scope) {\n",
              "function span(text, styleAttributes = {}) {\n",
              "  const element = document.createElement('span');\n",
              "  element.textContent = text;\n",
              "  for (const key of Object.keys(styleAttributes)) {\n",
              "    element.style[key] = styleAttributes[key];\n",
              "  }\n",
              "  return element;\n",
              "}\n",
              "\n",
              "// Max number of bytes which will be uploaded at a time.\n",
              "const MAX_PAYLOAD_SIZE = 100 * 1024;\n",
              "\n",
              "function _uploadFiles(inputId, outputId) {\n",
              "  const steps = uploadFilesStep(inputId, outputId);\n",
              "  const outputElement = document.getElementById(outputId);\n",
              "  // Cache steps on the outputElement to make it available for the next call\n",
              "  // to uploadFilesContinue from Python.\n",
              "  outputElement.steps = steps;\n",
              "\n",
              "  return _uploadFilesContinue(outputId);\n",
              "}\n",
              "\n",
              "// This is roughly an async generator (not supported in the browser yet),\n",
              "// where there are multiple asynchronous steps and the Python side is going\n",
              "// to poll for completion of each step.\n",
              "// This uses a Promise to block the python side on completion of each step,\n",
              "// then passes the result of the previous step as the input to the next step.\n",
              "function _uploadFilesContinue(outputId) {\n",
              "  const outputElement = document.getElementById(outputId);\n",
              "  const steps = outputElement.steps;\n",
              "\n",
              "  const next = steps.next(outputElement.lastPromiseValue);\n",
              "  return Promise.resolve(next.value.promise).then((value) => {\n",
              "    // Cache the last promise value to make it available to the next\n",
              "    // step of the generator.\n",
              "    outputElement.lastPromiseValue = value;\n",
              "    return next.value.response;\n",
              "  });\n",
              "}\n",
              "\n",
              "/**\n",
              " * Generator function which is called between each async step of the upload\n",
              " * process.\n",
              " * @param {string} inputId Element ID of the input file picker element.\n",
              " * @param {string} outputId Element ID of the output display.\n",
              " * @return {!Iterable<!Object>} Iterable of next steps.\n",
              " */\n",
              "function* uploadFilesStep(inputId, outputId) {\n",
              "  const inputElement = document.getElementById(inputId);\n",
              "  inputElement.disabled = false;\n",
              "\n",
              "  const outputElement = document.getElementById(outputId);\n",
              "  outputElement.innerHTML = '';\n",
              "\n",
              "  const pickedPromise = new Promise((resolve) => {\n",
              "    inputElement.addEventListener('change', (e) => {\n",
              "      resolve(e.target.files);\n",
              "    });\n",
              "  });\n",
              "\n",
              "  const cancel = document.createElement('button');\n",
              "  inputElement.parentElement.appendChild(cancel);\n",
              "  cancel.textContent = 'Cancel upload';\n",
              "  const cancelPromise = new Promise((resolve) => {\n",
              "    cancel.onclick = () => {\n",
              "      resolve(null);\n",
              "    };\n",
              "  });\n",
              "\n",
              "  // Wait for the user to pick the files.\n",
              "  const files = yield {\n",
              "    promise: Promise.race([pickedPromise, cancelPromise]),\n",
              "    response: {\n",
              "      action: 'starting',\n",
              "    }\n",
              "  };\n",
              "\n",
              "  cancel.remove();\n",
              "\n",
              "  // Disable the input element since further picks are not allowed.\n",
              "  inputElement.disabled = true;\n",
              "\n",
              "  if (!files) {\n",
              "    return {\n",
              "      response: {\n",
              "        action: 'complete',\n",
              "      }\n",
              "    };\n",
              "  }\n",
              "\n",
              "  for (const file of files) {\n",
              "    const li = document.createElement('li');\n",
              "    li.append(span(file.name, {fontWeight: 'bold'}));\n",
              "    li.append(span(\n",
              "        `(${file.type || 'n/a'}) - ${file.size} bytes, ` +\n",
              "        `last modified: ${\n",
              "            file.lastModifiedDate ? file.lastModifiedDate.toLocaleDateString() :\n",
              "                                    'n/a'} - `));\n",
              "    const percent = span('0% done');\n",
              "    li.appendChild(percent);\n",
              "\n",
              "    outputElement.appendChild(li);\n",
              "\n",
              "    const fileDataPromise = new Promise((resolve) => {\n",
              "      const reader = new FileReader();\n",
              "      reader.onload = (e) => {\n",
              "        resolve(e.target.result);\n",
              "      };\n",
              "      reader.readAsArrayBuffer(file);\n",
              "    });\n",
              "    // Wait for the data to be ready.\n",
              "    let fileData = yield {\n",
              "      promise: fileDataPromise,\n",
              "      response: {\n",
              "        action: 'continue',\n",
              "      }\n",
              "    };\n",
              "\n",
              "    // Use a chunked sending to avoid message size limits. See b/62115660.\n",
              "    let position = 0;\n",
              "    do {\n",
              "      const length = Math.min(fileData.byteLength - position, MAX_PAYLOAD_SIZE);\n",
              "      const chunk = new Uint8Array(fileData, position, length);\n",
              "      position += length;\n",
              "\n",
              "      const base64 = btoa(String.fromCharCode.apply(null, chunk));\n",
              "      yield {\n",
              "        response: {\n",
              "          action: 'append',\n",
              "          file: file.name,\n",
              "          data: base64,\n",
              "        },\n",
              "      };\n",
              "\n",
              "      let percentDone = fileData.byteLength === 0 ?\n",
              "          100 :\n",
              "          Math.round((position / fileData.byteLength) * 100);\n",
              "      percent.textContent = `${percentDone}% done`;\n",
              "\n",
              "    } while (position < fileData.byteLength);\n",
              "  }\n",
              "\n",
              "  // All done.\n",
              "  yield {\n",
              "    response: {\n",
              "      action: 'complete',\n",
              "    }\n",
              "  };\n",
              "}\n",
              "\n",
              "scope.google = scope.google || {};\n",
              "scope.google.colab = scope.google.colab || {};\n",
              "scope.google.colab._files = {\n",
              "  _uploadFiles,\n",
              "  _uploadFilesContinue,\n",
              "};\n",
              "})(self);\n",
              "</script> "
            ]
          },
          "metadata": {}
        },
        {
          "output_type": "stream",
          "name": "stdout",
          "text": [
            "Saving Student_Marks.csv to Student_Marks.csv\n"
          ]
        }
      ]
    },
    {
      "cell_type": "markdown",
      "source": [
        "Load Dataset"
      ],
      "metadata": {
        "id": "IQz3JLqZgGoG"
      }
    },
    {
      "cell_type": "code",
      "source": [
        "dataset = pd.read_csv('Student_Marks.csv')"
      ],
      "metadata": {
        "id": "Z141qCSWgEid"
      },
      "execution_count": 3,
      "outputs": []
    },
    {
      "cell_type": "markdown",
      "source": [
        "Load Summarize"
      ],
      "metadata": {
        "id": "nv5PbPSygQNs"
      }
    },
    {
      "cell_type": "code",
      "source": [
        "print(dataset.shape)\n",
        "print(dataset.head(5))"
      ],
      "metadata": {
        "colab": {
          "base_uri": "https://localhost:8080/"
        },
        "id": "KyK8ITLmgP0U",
        "outputId": "68f85f72-a91e-485c-e277-8176b7b416c7"
      },
      "execution_count": 4,
      "outputs": [
        {
          "output_type": "stream",
          "name": "stdout",
          "text": [
            "(100, 3)\n",
            "   number_courses  time_study   Marks\n",
            "0               3       4.508  19.202\n",
            "1               4       0.096   7.734\n",
            "2               4       3.133  13.811\n",
            "3               6       7.909  53.018\n",
            "4               8       7.811  55.299\n"
          ]
        }
      ]
    },
    {
      "cell_type": "markdown",
      "source": [
        "Finding & Removing NA values from our Features X"
      ],
      "metadata": {
        "id": "KYmZeejhgqK-"
      }
    },
    {
      "cell_type": "code",
      "source": [
        "dataset.columns[dataset.isna().any()]"
      ],
      "metadata": {
        "colab": {
          "base_uri": "https://localhost:8080/"
        },
        "id": "0GkcWc3PgXd0",
        "outputId": "e844464e-fe66-4fce-f5a3-7ab79bcaa3e7"
      },
      "execution_count": 5,
      "outputs": [
        {
          "output_type": "execute_result",
          "data": {
            "text/plain": [
              "Index([], dtype='object')"
            ]
          },
          "metadata": {},
          "execution_count": 5
        }
      ]
    },
    {
      "cell_type": "code",
      "source": [
        "dataset.time_study = dataset.time_study.fillna(dataset.time_study.mean())"
      ],
      "metadata": {
        "id": "AXG1UkIrg4pj"
      },
      "execution_count": 6,
      "outputs": []
    },
    {
      "cell_type": "markdown",
      "source": [
        "Segregate Dataset into X & Y"
      ],
      "metadata": {
        "id": "0krPhytqhn92"
      }
    },
    {
      "cell_type": "code",
      "source": [
        "X = dataset.iloc[:, :-1].values\n",
        "print(X.shape)\n",
        "X"
      ],
      "metadata": {
        "colab": {
          "base_uri": "https://localhost:8080/"
        },
        "id": "CPfazjvNhnm1",
        "outputId": "85d62094-c6bb-4aa2-9dbf-e2b8e15614e3"
      },
      "execution_count": 7,
      "outputs": [
        {
          "output_type": "stream",
          "name": "stdout",
          "text": [
            "(100, 2)\n"
          ]
        },
        {
          "output_type": "execute_result",
          "data": {
            "text/plain": [
              "array([[3.   , 4.508],\n",
              "       [4.   , 0.096],\n",
              "       [4.   , 3.133],\n",
              "       [6.   , 7.909],\n",
              "       [8.   , 7.811],\n",
              "       [6.   , 3.211],\n",
              "       [3.   , 6.063],\n",
              "       [5.   , 3.413],\n",
              "       [4.   , 4.41 ],\n",
              "       [3.   , 6.173],\n",
              "       [3.   , 7.353],\n",
              "       [7.   , 0.423],\n",
              "       [7.   , 4.218],\n",
              "       [3.   , 4.274],\n",
              "       [3.   , 2.908],\n",
              "       [4.   , 4.26 ],\n",
              "       [5.   , 5.719],\n",
              "       [8.   , 6.08 ],\n",
              "       [6.   , 7.711],\n",
              "       [8.   , 3.977],\n",
              "       [4.   , 4.733],\n",
              "       [6.   , 6.126],\n",
              "       [5.   , 2.051],\n",
              "       [7.   , 4.875],\n",
              "       [4.   , 3.635],\n",
              "       [3.   , 1.407],\n",
              "       [7.   , 0.508],\n",
              "       [8.   , 4.378],\n",
              "       [5.   , 0.156],\n",
              "       [4.   , 1.299],\n",
              "       [8.   , 3.864],\n",
              "       [3.   , 1.923],\n",
              "       [8.   , 0.932],\n",
              "       [6.   , 6.594],\n",
              "       [3.   , 4.083],\n",
              "       [3.   , 7.543],\n",
              "       [4.   , 2.966],\n",
              "       [6.   , 7.283],\n",
              "       [7.   , 6.533],\n",
              "       [6.   , 7.775],\n",
              "       [4.   , 0.14 ],\n",
              "       [6.   , 2.754],\n",
              "       [6.   , 3.591],\n",
              "       [5.   , 1.557],\n",
              "       [4.   , 1.954],\n",
              "       [3.   , 2.061],\n",
              "       [4.   , 3.797],\n",
              "       [4.   , 4.779],\n",
              "       [3.   , 5.635],\n",
              "       [5.   , 3.913],\n",
              "       [6.   , 6.703],\n",
              "       [6.   , 4.13 ],\n",
              "       [4.   , 0.771],\n",
              "       [7.   , 6.049],\n",
              "       [8.   , 7.591],\n",
              "       [7.   , 2.913],\n",
              "       [8.   , 7.641],\n",
              "       [7.   , 7.649],\n",
              "       [3.   , 6.198],\n",
              "       [8.   , 7.468],\n",
              "       [6.   , 0.376],\n",
              "       [4.   , 2.438],\n",
              "       [6.   , 3.606],\n",
              "       [3.   , 4.869],\n",
              "       [7.   , 0.13 ],\n",
              "       [6.   , 2.142],\n",
              "       [4.   , 5.473],\n",
              "       [3.   , 0.55 ],\n",
              "       [4.   , 1.395],\n",
              "       [6.   , 3.948],\n",
              "       [4.   , 3.736],\n",
              "       [5.   , 2.518],\n",
              "       [3.   , 4.633],\n",
              "       [3.   , 1.629],\n",
              "       [4.   , 6.954],\n",
              "       [3.   , 0.803],\n",
              "       [5.   , 6.379],\n",
              "       [8.   , 5.985],\n",
              "       [7.   , 7.451],\n",
              "       [3.   , 0.805],\n",
              "       [7.   , 7.957],\n",
              "       [8.   , 2.262],\n",
              "       [4.   , 7.41 ],\n",
              "       [5.   , 3.197],\n",
              "       [8.   , 1.982],\n",
              "       [8.   , 6.201],\n",
              "       [7.   , 4.067],\n",
              "       [3.   , 1.033],\n",
              "       [5.   , 1.803],\n",
              "       [7.   , 6.376],\n",
              "       [7.   , 4.182],\n",
              "       [8.   , 2.73 ],\n",
              "       [4.   , 5.027],\n",
              "       [8.   , 6.471],\n",
              "       [8.   , 3.919],\n",
              "       [6.   , 3.561],\n",
              "       [3.   , 0.301],\n",
              "       [4.   , 7.163],\n",
              "       [7.   , 0.309],\n",
              "       [3.   , 6.335]])"
            ]
          },
          "metadata": {},
          "execution_count": 7
        }
      ]
    },
    {
      "cell_type": "code",
      "source": [
        "Y = dataset.iloc[:, -1].values\n",
        "Y"
      ],
      "metadata": {
        "colab": {
          "base_uri": "https://localhost:8080/"
        },
        "id": "j3RX8CsIh0D0",
        "outputId": "6cbcc6fe-7f25-4e4a-d7cf-aeb194fbeeea"
      },
      "execution_count": 8,
      "outputs": [
        {
          "output_type": "execute_result",
          "data": {
            "text/plain": [
              "array([19.202,  7.734, 13.811, 53.018, 55.299, 17.822, 29.889, 17.264,\n",
              "       20.348, 30.862, 42.036, 12.132, 24.318, 17.672, 11.397, 19.466,\n",
              "       30.548, 38.49 , 50.986, 25.133, 22.073, 35.939, 12.209, 28.043,\n",
              "       16.517,  6.623, 12.647, 26.532,  9.333,  8.837, 24.172,  8.1  ,\n",
              "       15.038, 39.965, 17.171, 43.978, 13.119, 46.453, 41.358, 51.142,\n",
              "        7.336, 15.725, 19.771, 10.429,  9.742,  8.924, 16.703, 22.701,\n",
              "       26.882, 19.106, 40.602, 22.184,  7.892, 36.653, 53.158, 18.238,\n",
              "       53.359, 51.583, 31.236, 51.343, 10.522, 10.844, 19.59 , 21.379,\n",
              "       12.591, 13.562, 27.569,  6.185,  8.92 , 21.4  , 16.606, 13.416,\n",
              "       20.398,  7.014, 39.952,  6.217, 36.746, 38.278, 49.544,  6.349,\n",
              "       54.321, 17.705, 44.099, 16.106, 16.461, 39.957, 23.149,  6.053,\n",
              "       11.253, 40.024, 24.394, 19.564, 23.916, 42.426, 24.451, 19.128,\n",
              "        5.609, 41.444, 12.027, 32.357])"
            ]
          },
          "metadata": {},
          "execution_count": 8
        }
      ]
    },
    {
      "cell_type": "markdown",
      "source": [
        "Training Dataset using Linear Regression"
      ],
      "metadata": {
        "id": "ufLqrf_Mh-AG"
      }
    },
    {
      "cell_type": "code",
      "source": [
        "model = LinearRegression()\n",
        "model.fit(X, Y)"
      ],
      "metadata": {
        "colab": {
          "base_uri": "https://localhost:8080/",
          "height": 75
        },
        "id": "6gMtJa1-h870",
        "outputId": "2327cfc4-cc32-42c5-99ba-b25a4ad865c2"
      },
      "execution_count": 9,
      "outputs": [
        {
          "output_type": "execute_result",
          "data": {
            "text/plain": [
              "LinearRegression()"
            ],
            "text/html": [
              "<style>#sk-container-id-1 {color: black;background-color: white;}#sk-container-id-1 pre{padding: 0;}#sk-container-id-1 div.sk-toggleable {background-color: white;}#sk-container-id-1 label.sk-toggleable__label {cursor: pointer;display: block;width: 100%;margin-bottom: 0;padding: 0.3em;box-sizing: border-box;text-align: center;}#sk-container-id-1 label.sk-toggleable__label-arrow:before {content: \"▸\";float: left;margin-right: 0.25em;color: #696969;}#sk-container-id-1 label.sk-toggleable__label-arrow:hover:before {color: black;}#sk-container-id-1 div.sk-estimator:hover label.sk-toggleable__label-arrow:before {color: black;}#sk-container-id-1 div.sk-toggleable__content {max-height: 0;max-width: 0;overflow: hidden;text-align: left;background-color: #f0f8ff;}#sk-container-id-1 div.sk-toggleable__content pre {margin: 0.2em;color: black;border-radius: 0.25em;background-color: #f0f8ff;}#sk-container-id-1 input.sk-toggleable__control:checked~div.sk-toggleable__content {max-height: 200px;max-width: 100%;overflow: auto;}#sk-container-id-1 input.sk-toggleable__control:checked~label.sk-toggleable__label-arrow:before {content: \"▾\";}#sk-container-id-1 div.sk-estimator input.sk-toggleable__control:checked~label.sk-toggleable__label {background-color: #d4ebff;}#sk-container-id-1 div.sk-label input.sk-toggleable__control:checked~label.sk-toggleable__label {background-color: #d4ebff;}#sk-container-id-1 input.sk-hidden--visually {border: 0;clip: rect(1px 1px 1px 1px);clip: rect(1px, 1px, 1px, 1px);height: 1px;margin: -1px;overflow: hidden;padding: 0;position: absolute;width: 1px;}#sk-container-id-1 div.sk-estimator {font-family: monospace;background-color: #f0f8ff;border: 1px dotted black;border-radius: 0.25em;box-sizing: border-box;margin-bottom: 0.5em;}#sk-container-id-1 div.sk-estimator:hover {background-color: #d4ebff;}#sk-container-id-1 div.sk-parallel-item::after {content: \"\";width: 100%;border-bottom: 1px solid gray;flex-grow: 1;}#sk-container-id-1 div.sk-label:hover label.sk-toggleable__label {background-color: #d4ebff;}#sk-container-id-1 div.sk-serial::before {content: \"\";position: absolute;border-left: 1px solid gray;box-sizing: border-box;top: 0;bottom: 0;left: 50%;z-index: 0;}#sk-container-id-1 div.sk-serial {display: flex;flex-direction: column;align-items: center;background-color: white;padding-right: 0.2em;padding-left: 0.2em;position: relative;}#sk-container-id-1 div.sk-item {position: relative;z-index: 1;}#sk-container-id-1 div.sk-parallel {display: flex;align-items: stretch;justify-content: center;background-color: white;position: relative;}#sk-container-id-1 div.sk-item::before, #sk-container-id-1 div.sk-parallel-item::before {content: \"\";position: absolute;border-left: 1px solid gray;box-sizing: border-box;top: 0;bottom: 0;left: 50%;z-index: -1;}#sk-container-id-1 div.sk-parallel-item {display: flex;flex-direction: column;z-index: 1;position: relative;background-color: white;}#sk-container-id-1 div.sk-parallel-item:first-child::after {align-self: flex-end;width: 50%;}#sk-container-id-1 div.sk-parallel-item:last-child::after {align-self: flex-start;width: 50%;}#sk-container-id-1 div.sk-parallel-item:only-child::after {width: 0;}#sk-container-id-1 div.sk-dashed-wrapped {border: 1px dashed gray;margin: 0 0.4em 0.5em 0.4em;box-sizing: border-box;padding-bottom: 0.4em;background-color: white;}#sk-container-id-1 div.sk-label label {font-family: monospace;font-weight: bold;display: inline-block;line-height: 1.2em;}#sk-container-id-1 div.sk-label-container {text-align: center;}#sk-container-id-1 div.sk-container {/* jupyter's `normalize.less` sets `[hidden] { display: none; }` but bootstrap.min.css set `[hidden] { display: none !important; }` so we also need the `!important` here to be able to override the default hidden behavior on the sphinx rendered scikit-learn.org. See: https://github.com/scikit-learn/scikit-learn/issues/21755 */display: inline-block !important;position: relative;}#sk-container-id-1 div.sk-text-repr-fallback {display: none;}</style><div id=\"sk-container-id-1\" class=\"sk-top-container\"><div class=\"sk-text-repr-fallback\"><pre>LinearRegression()</pre><b>In a Jupyter environment, please rerun this cell to show the HTML representation or trust the notebook. <br />On GitHub, the HTML representation is unable to render, please try loading this page with nbviewer.org.</b></div><div class=\"sk-container\" hidden><div class=\"sk-item\"><div class=\"sk-estimator sk-toggleable\"><input class=\"sk-toggleable__control sk-hidden--visually\" id=\"sk-estimator-id-1\" type=\"checkbox\" checked><label for=\"sk-estimator-id-1\" class=\"sk-toggleable__label sk-toggleable__label-arrow\">LinearRegression</label><div class=\"sk-toggleable__content\"><pre>LinearRegression()</pre></div></div></div></div></div>"
            ]
          },
          "metadata": {},
          "execution_count": 9
        }
      ]
    },
    {
      "cell_type": "markdown",
      "source": [
        "Prediction"
      ],
      "metadata": {
        "id": "66-joS8TiRKG"
      }
    },
    {
      "cell_type": "code",
      "source": [
        "a=[[1,3]]\n",
        "PredictmodelResult = model.predict(a)\n",
        "print(PredictmodelResult)"
      ],
      "metadata": {
        "colab": {
          "base_uri": "https://localhost:8080/"
        },
        "id": "LXwxnfuKiNKl",
        "outputId": "d167b004-36e8-4883-ab03-8d43373846aa"
      },
      "execution_count": 12,
      "outputs": [
        {
          "output_type": "stream",
          "name": "stdout",
          "text": [
            "[10.60524087]\n"
          ]
        }
      ]
    }
  ]
}
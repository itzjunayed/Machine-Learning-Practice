{
  "nbformat": 4,
  "nbformat_minor": 0,
  "metadata": {
    "colab": {
      "provenance": []
    },
    "kernelspec": {
      "name": "python3",
      "display_name": "Python 3"
    },
    "language_info": {
      "name": "python"
    }
  },
  "cells": [
    {
      "cell_type": "markdown",
      "source": [],
      "metadata": {
        "id": "ClwiMnw8-47P"
      }
    },
    {
      "cell_type": "markdown",
      "source": [
        "Import library"
      ],
      "metadata": {
        "id": "qbxDproK4qqK"
      }
    },
    {
      "cell_type": "code",
      "execution_count": 32,
      "metadata": {
        "id": "s4TDpjBG4ehx"
      },
      "outputs": [],
      "source": [
        "import numpy as np\n",
        "import matplotlib.pyplot as plt\n",
        "import pandas as pd"
      ]
    },
    {
      "cell_type": "markdown",
      "source": [
        "Importing the dataset"
      ],
      "metadata": {
        "id": "rEZIf0IO5CgR"
      }
    },
    {
      "cell_type": "code",
      "source": [
        "dataset = pd.read_csv('data.csv')\n",
        "X = dataset.iloc[:, 1:-1].values\n",
        "y = dataset.iloc[:, -1].values"
      ],
      "metadata": {
        "id": "v1eLeKDX43HV"
      },
      "execution_count": 33,
      "outputs": []
    },
    {
      "cell_type": "code",
      "source": [
        "print(X)\n",
        "print(y)"
      ],
      "metadata": {
        "colab": {
          "base_uri": "https://localhost:8080/"
        },
        "id": "G2AzvOJY77HV",
        "outputId": "3fd09951-84be-4ba7-ec57-4fadaec029ab"
      },
      "execution_count": 34,
      "outputs": [
        {
          "output_type": "stream",
          "name": "stdout",
          "text": [
            "[[2141.       2154.       2121.350098 2131.550049 2124.715088]\n",
            " [2120.       2123.899902 2088.       2097.050049 2090.325684]\n",
            " [2118.       2122.       2077.       2081.850098 2075.174316]\n",
            " ...\n",
            " [2149.350098 2203.       2128.149902 2173.5      2173.5     ]\n",
            " [2168.850098 2185.199951 2147.850098 2164.25     2164.25    ]\n",
            " [2174.       2186.800049 2152.600098 2172.649902 2172.649902]]\n",
            "[15731396 10401212 11667129 15098991  8947563 27630190 12961252 12537520\n",
            " 28648125 17821397 12437162  8577634 13141644 10119064 12643749 25525961\n",
            " 64750460 27445768 20335273 12542824 15668979 11919927 15264068 15519031\n",
            " 16056620 19839282 13764841 13095028  9076248 11926328 11290667  9591456\n",
            "  8732869  8497216 24538346  9727405  8558745  6565515 10666190 12341434\n",
            "  9246702  9960828 14398973  8529573 15728986 14215215 10809307 17225212\n",
            " 16835005 13809929 14147418 15700946 45857806 40931170 37003111 17170274\n",
            " 30770080 16539467 17045147 26178477 18481466 20946864 21479385 14030652\n",
            " 12828008 26522972 20918665 14277083 15062376 11924527 21845931  9114939\n",
            " 10240168 12822945  8521388  8418767 20030506 13464375  7414229 12434745\n",
            "  7989830  8561406  8565904  9346460  8522215 20368545 12986606  8999898\n",
            "  9588577  7947719  8589407 10173132  8667516  4622002 11312992 11132803\n",
            " 21414270 14918406 12709792 15371556 18996047 12284876  9946818  9503790\n",
            " 16198856 14771048 14271669 18038987 14090818 25016570 19553809 15722291\n",
            " 20173258 15774504 19138414 13984228 11826848  9344470  9776136  9047308\n",
            "  9799560 19631870 14074374  7287590  9886093 10957388  8605531 10800704\n",
            " 10985697 11834752  4987735 16085897 17297575  8159670  7915073 14733134\n",
            "  9892597 11773630  9002404  6993792  5316182  7783173  7706170  6402757\n",
            "  8865521  9528809 19284892  8571196  8039865  7763726 10153757  9313160\n",
            "  9433842  7499740  5410307  6864856  6465241 11198918  7092878  6478482\n",
            "  9646031  8958261  9102492  7225679  8527967  7939490  6687573  5459016\n",
            "  9620785  9226547  7902002  8035915  9150974 10909942 10083693  5719649\n",
            "  6749281  5671163  6433879  6220217  6081627  6134079  5479424  5567958\n",
            "  7530294  5271497  4977555  3946636  6821015  3452113 12377100 26060864\n",
            " 27285782 12928379 11366816 11064116  6677278  7539326  4464889  5265326\n",
            "  6532832  6351520  9383416  7002898  4982975  7266765 13553801  5624044\n",
            "  5940386  7685796 42209687 25546334  9357852 12526981  9120556  5784627\n",
            "  6500973  5400604  4647361  4824931  5162088  4170886  3962111  3099956\n",
            "  3937768  4360415  4074206  3855577  3111185  3679260  4585938  5717830\n",
            "  4995516  5952355  6352886  5238304  5041934  5453682  6077861  9807831\n",
            "  7670583  3458546  5500708  4238859  3755507  5898384 10123204  5841743\n",
            "  4650008]\n"
          ]
        }
      ]
    },
    {
      "cell_type": "code",
      "source": [
        "y = y.reshape(len(y), 1)\n",
        "y"
      ],
      "metadata": {
        "colab": {
          "base_uri": "https://localhost:8080/"
        },
        "id": "hJmnNJJE7-yF",
        "outputId": "94e582e9-6c5b-4b0f-e003-d719d10b943c"
      },
      "execution_count": 46,
      "outputs": [
        {
          "output_type": "execute_result",
          "data": {
            "text/plain": [
              "array([[15731396],\n",
              "       [10401212],\n",
              "       [11667129],\n",
              "       [15098991],\n",
              "       [ 8947563],\n",
              "       [27630190],\n",
              "       [12961252],\n",
              "       [12537520],\n",
              "       [28648125],\n",
              "       [17821397],\n",
              "       [12437162],\n",
              "       [ 8577634],\n",
              "       [13141644],\n",
              "       [10119064],\n",
              "       [12643749],\n",
              "       [25525961],\n",
              "       [64750460],\n",
              "       [27445768],\n",
              "       [20335273],\n",
              "       [12542824],\n",
              "       [15668979],\n",
              "       [11919927],\n",
              "       [15264068],\n",
              "       [15519031],\n",
              "       [16056620],\n",
              "       [19839282],\n",
              "       [13764841],\n",
              "       [13095028],\n",
              "       [ 9076248],\n",
              "       [11926328],\n",
              "       [11290667],\n",
              "       [ 9591456],\n",
              "       [ 8732869],\n",
              "       [ 8497216],\n",
              "       [24538346],\n",
              "       [ 9727405],\n",
              "       [ 8558745],\n",
              "       [ 6565515],\n",
              "       [10666190],\n",
              "       [12341434],\n",
              "       [ 9246702],\n",
              "       [ 9960828],\n",
              "       [14398973],\n",
              "       [ 8529573],\n",
              "       [15728986],\n",
              "       [14215215],\n",
              "       [10809307],\n",
              "       [17225212],\n",
              "       [16835005],\n",
              "       [13809929],\n",
              "       [14147418],\n",
              "       [15700946],\n",
              "       [45857806],\n",
              "       [40931170],\n",
              "       [37003111],\n",
              "       [17170274],\n",
              "       [30770080],\n",
              "       [16539467],\n",
              "       [17045147],\n",
              "       [26178477],\n",
              "       [18481466],\n",
              "       [20946864],\n",
              "       [21479385],\n",
              "       [14030652],\n",
              "       [12828008],\n",
              "       [26522972],\n",
              "       [20918665],\n",
              "       [14277083],\n",
              "       [15062376],\n",
              "       [11924527],\n",
              "       [21845931],\n",
              "       [ 9114939],\n",
              "       [10240168],\n",
              "       [12822945],\n",
              "       [ 8521388],\n",
              "       [ 8418767],\n",
              "       [20030506],\n",
              "       [13464375],\n",
              "       [ 7414229],\n",
              "       [12434745],\n",
              "       [ 7989830],\n",
              "       [ 8561406],\n",
              "       [ 8565904],\n",
              "       [ 9346460],\n",
              "       [ 8522215],\n",
              "       [20368545],\n",
              "       [12986606],\n",
              "       [ 8999898],\n",
              "       [ 9588577],\n",
              "       [ 7947719],\n",
              "       [ 8589407],\n",
              "       [10173132],\n",
              "       [ 8667516],\n",
              "       [ 4622002],\n",
              "       [11312992],\n",
              "       [11132803],\n",
              "       [21414270],\n",
              "       [14918406],\n",
              "       [12709792],\n",
              "       [15371556],\n",
              "       [18996047],\n",
              "       [12284876],\n",
              "       [ 9946818],\n",
              "       [ 9503790],\n",
              "       [16198856],\n",
              "       [14771048],\n",
              "       [14271669],\n",
              "       [18038987],\n",
              "       [14090818],\n",
              "       [25016570],\n",
              "       [19553809],\n",
              "       [15722291],\n",
              "       [20173258],\n",
              "       [15774504],\n",
              "       [19138414],\n",
              "       [13984228],\n",
              "       [11826848],\n",
              "       [ 9344470],\n",
              "       [ 9776136],\n",
              "       [ 9047308],\n",
              "       [ 9799560],\n",
              "       [19631870],\n",
              "       [14074374],\n",
              "       [ 7287590],\n",
              "       [ 9886093],\n",
              "       [10957388],\n",
              "       [ 8605531],\n",
              "       [10800704],\n",
              "       [10985697],\n",
              "       [11834752],\n",
              "       [ 4987735],\n",
              "       [16085897],\n",
              "       [17297575],\n",
              "       [ 8159670],\n",
              "       [ 7915073],\n",
              "       [14733134],\n",
              "       [ 9892597],\n",
              "       [11773630],\n",
              "       [ 9002404],\n",
              "       [ 6993792],\n",
              "       [ 5316182],\n",
              "       [ 7783173],\n",
              "       [ 7706170],\n",
              "       [ 6402757],\n",
              "       [ 8865521],\n",
              "       [ 9528809],\n",
              "       [19284892],\n",
              "       [ 8571196],\n",
              "       [ 8039865],\n",
              "       [ 7763726],\n",
              "       [10153757],\n",
              "       [ 9313160],\n",
              "       [ 9433842],\n",
              "       [ 7499740],\n",
              "       [ 5410307],\n",
              "       [ 6864856],\n",
              "       [ 6465241],\n",
              "       [11198918],\n",
              "       [ 7092878],\n",
              "       [ 6478482],\n",
              "       [ 9646031],\n",
              "       [ 8958261],\n",
              "       [ 9102492],\n",
              "       [ 7225679],\n",
              "       [ 8527967],\n",
              "       [ 7939490],\n",
              "       [ 6687573],\n",
              "       [ 5459016],\n",
              "       [ 9620785],\n",
              "       [ 9226547],\n",
              "       [ 7902002],\n",
              "       [ 8035915],\n",
              "       [ 9150974],\n",
              "       [10909942],\n",
              "       [10083693],\n",
              "       [ 5719649],\n",
              "       [ 6749281],\n",
              "       [ 5671163],\n",
              "       [ 6433879],\n",
              "       [ 6220217],\n",
              "       [ 6081627],\n",
              "       [ 6134079],\n",
              "       [ 5479424],\n",
              "       [ 5567958],\n",
              "       [ 7530294],\n",
              "       [ 5271497],\n",
              "       [ 4977555],\n",
              "       [ 3946636],\n",
              "       [ 6821015],\n",
              "       [ 3452113],\n",
              "       [12377100],\n",
              "       [26060864],\n",
              "       [27285782],\n",
              "       [12928379],\n",
              "       [11366816],\n",
              "       [11064116],\n",
              "       [ 6677278],\n",
              "       [ 7539326],\n",
              "       [ 4464889],\n",
              "       [ 5265326],\n",
              "       [ 6532832],\n",
              "       [ 6351520],\n",
              "       [ 9383416],\n",
              "       [ 7002898],\n",
              "       [ 4982975],\n",
              "       [ 7266765],\n",
              "       [13553801],\n",
              "       [ 5624044],\n",
              "       [ 5940386],\n",
              "       [ 7685796],\n",
              "       [42209687],\n",
              "       [25546334],\n",
              "       [ 9357852],\n",
              "       [12526981],\n",
              "       [ 9120556],\n",
              "       [ 5784627],\n",
              "       [ 6500973],\n",
              "       [ 5400604],\n",
              "       [ 4647361],\n",
              "       [ 4824931],\n",
              "       [ 5162088],\n",
              "       [ 4170886],\n",
              "       [ 3962111],\n",
              "       [ 3099956],\n",
              "       [ 3937768],\n",
              "       [ 4360415],\n",
              "       [ 4074206],\n",
              "       [ 3855577],\n",
              "       [ 3111185],\n",
              "       [ 3679260],\n",
              "       [ 4585938],\n",
              "       [ 5717830],\n",
              "       [ 4995516],\n",
              "       [ 5952355],\n",
              "       [ 6352886],\n",
              "       [ 5238304],\n",
              "       [ 5041934],\n",
              "       [ 5453682],\n",
              "       [ 6077861],\n",
              "       [ 9807831],\n",
              "       [ 7670583],\n",
              "       [ 3458546],\n",
              "       [ 5500708],\n",
              "       [ 4238859],\n",
              "       [ 3755507],\n",
              "       [ 5898384],\n",
              "       [10123204],\n",
              "       [ 5841743],\n",
              "       [ 4650008]])"
            ]
          },
          "metadata": {},
          "execution_count": 46
        }
      ]
    },
    {
      "cell_type": "markdown",
      "source": [
        "Splitting Dataset into Train and Test"
      ],
      "metadata": {
        "id": "ar_BmKoA8kX3"
      }
    },
    {
      "cell_type": "code",
      "source": [
        "from sklearn.model_selection import train_test_split\n",
        "X_train, X_test, y_train, y_test = train_test_split(X, y, test_size = 0.2, random_state = 0)"
      ],
      "metadata": {
        "id": "MttchNxp8MO8"
      },
      "execution_count": 41,
      "outputs": []
    },
    {
      "cell_type": "markdown",
      "source": [
        "Feature Scaling"
      ],
      "metadata": {
        "id": "EN71ERPU8ylp"
      }
    },
    {
      "cell_type": "code",
      "source": [
        "from sklearn.preprocessing import StandardScaler\n",
        "sc_x = StandardScaler()\n",
        "sc_y = StandardScaler()\n",
        "X_train = sc_x.fit_transform(X_train)\n",
        "y_train = sc_y.fit_transform(y_train)"
      ],
      "metadata": {
        "id": "8ZD3J3NK8oPl"
      },
      "execution_count": 42,
      "outputs": []
    },
    {
      "cell_type": "markdown",
      "source": [
        "Training the SVR model on the training set"
      ],
      "metadata": {
        "id": "_b_3XhKg9TvO"
      }
    },
    {
      "cell_type": "code",
      "source": [
        "from sklearn.svm import SVR\n",
        "regressor = SVR(kernel = 'rbf')\n",
        "regressor.fit(X_train, y_train)"
      ],
      "metadata": {
        "colab": {
          "base_uri": "https://localhost:8080/",
          "height": 131
        },
        "id": "VoPR8jVl9L7m",
        "outputId": "8113a9e1-fac6-48a3-c70a-411ee708e422"
      },
      "execution_count": 43,
      "outputs": [
        {
          "output_type": "stream",
          "name": "stderr",
          "text": [
            "/usr/local/lib/python3.9/dist-packages/sklearn/utils/validation.py:1143: DataConversionWarning: A column-vector y was passed when a 1d array was expected. Please change the shape of y to (n_samples, ), for example using ravel().\n",
            "  y = column_or_1d(y, warn=True)\n"
          ]
        },
        {
          "output_type": "execute_result",
          "data": {
            "text/plain": [
              "SVR()"
            ],
            "text/html": [
              "<style>#sk-container-id-3 {color: black;background-color: white;}#sk-container-id-3 pre{padding: 0;}#sk-container-id-3 div.sk-toggleable {background-color: white;}#sk-container-id-3 label.sk-toggleable__label {cursor: pointer;display: block;width: 100%;margin-bottom: 0;padding: 0.3em;box-sizing: border-box;text-align: center;}#sk-container-id-3 label.sk-toggleable__label-arrow:before {content: \"▸\";float: left;margin-right: 0.25em;color: #696969;}#sk-container-id-3 label.sk-toggleable__label-arrow:hover:before {color: black;}#sk-container-id-3 div.sk-estimator:hover label.sk-toggleable__label-arrow:before {color: black;}#sk-container-id-3 div.sk-toggleable__content {max-height: 0;max-width: 0;overflow: hidden;text-align: left;background-color: #f0f8ff;}#sk-container-id-3 div.sk-toggleable__content pre {margin: 0.2em;color: black;border-radius: 0.25em;background-color: #f0f8ff;}#sk-container-id-3 input.sk-toggleable__control:checked~div.sk-toggleable__content {max-height: 200px;max-width: 100%;overflow: auto;}#sk-container-id-3 input.sk-toggleable__control:checked~label.sk-toggleable__label-arrow:before {content: \"▾\";}#sk-container-id-3 div.sk-estimator input.sk-toggleable__control:checked~label.sk-toggleable__label {background-color: #d4ebff;}#sk-container-id-3 div.sk-label input.sk-toggleable__control:checked~label.sk-toggleable__label {background-color: #d4ebff;}#sk-container-id-3 input.sk-hidden--visually {border: 0;clip: rect(1px 1px 1px 1px);clip: rect(1px, 1px, 1px, 1px);height: 1px;margin: -1px;overflow: hidden;padding: 0;position: absolute;width: 1px;}#sk-container-id-3 div.sk-estimator {font-family: monospace;background-color: #f0f8ff;border: 1px dotted black;border-radius: 0.25em;box-sizing: border-box;margin-bottom: 0.5em;}#sk-container-id-3 div.sk-estimator:hover {background-color: #d4ebff;}#sk-container-id-3 div.sk-parallel-item::after {content: \"\";width: 100%;border-bottom: 1px solid gray;flex-grow: 1;}#sk-container-id-3 div.sk-label:hover label.sk-toggleable__label {background-color: #d4ebff;}#sk-container-id-3 div.sk-serial::before {content: \"\";position: absolute;border-left: 1px solid gray;box-sizing: border-box;top: 0;bottom: 0;left: 50%;z-index: 0;}#sk-container-id-3 div.sk-serial {display: flex;flex-direction: column;align-items: center;background-color: white;padding-right: 0.2em;padding-left: 0.2em;position: relative;}#sk-container-id-3 div.sk-item {position: relative;z-index: 1;}#sk-container-id-3 div.sk-parallel {display: flex;align-items: stretch;justify-content: center;background-color: white;position: relative;}#sk-container-id-3 div.sk-item::before, #sk-container-id-3 div.sk-parallel-item::before {content: \"\";position: absolute;border-left: 1px solid gray;box-sizing: border-box;top: 0;bottom: 0;left: 50%;z-index: -1;}#sk-container-id-3 div.sk-parallel-item {display: flex;flex-direction: column;z-index: 1;position: relative;background-color: white;}#sk-container-id-3 div.sk-parallel-item:first-child::after {align-self: flex-end;width: 50%;}#sk-container-id-3 div.sk-parallel-item:last-child::after {align-self: flex-start;width: 50%;}#sk-container-id-3 div.sk-parallel-item:only-child::after {width: 0;}#sk-container-id-3 div.sk-dashed-wrapped {border: 1px dashed gray;margin: 0 0.4em 0.5em 0.4em;box-sizing: border-box;padding-bottom: 0.4em;background-color: white;}#sk-container-id-3 div.sk-label label {font-family: monospace;font-weight: bold;display: inline-block;line-height: 1.2em;}#sk-container-id-3 div.sk-label-container {text-align: center;}#sk-container-id-3 div.sk-container {/* jupyter's `normalize.less` sets `[hidden] { display: none; }` but bootstrap.min.css set `[hidden] { display: none !important; }` so we also need the `!important` here to be able to override the default hidden behavior on the sphinx rendered scikit-learn.org. See: https://github.com/scikit-learn/scikit-learn/issues/21755 */display: inline-block !important;position: relative;}#sk-container-id-3 div.sk-text-repr-fallback {display: none;}</style><div id=\"sk-container-id-3\" class=\"sk-top-container\"><div class=\"sk-text-repr-fallback\"><pre>SVR()</pre><b>In a Jupyter environment, please rerun this cell to show the HTML representation or trust the notebook. <br />On GitHub, the HTML representation is unable to render, please try loading this page with nbviewer.org.</b></div><div class=\"sk-container\" hidden><div class=\"sk-item\"><div class=\"sk-estimator sk-toggleable\"><input class=\"sk-toggleable__control sk-hidden--visually\" id=\"sk-estimator-id-3\" type=\"checkbox\" checked><label for=\"sk-estimator-id-3\" class=\"sk-toggleable__label sk-toggleable__label-arrow\">SVR</label><div class=\"sk-toggleable__content\"><pre>SVR()</pre></div></div></div></div></div>"
            ]
          },
          "metadata": {},
          "execution_count": 43
        }
      ]
    },
    {
      "cell_type": "markdown",
      "source": [
        "Predicting the test set results"
      ],
      "metadata": {
        "id": "7EYaX-vc_kWz"
      }
    },
    {
      "cell_type": "code",
      "source": [
        "y_pred = sc_y.inverse_transform(regressor.predict(sc_x.transform(X_test)))\n",
        "np.set_printoptions(precision=2)\n",
        "print(np.concatenate((y_pred.reshape(len(y_pred), 1), y_test.rehape(len(y_test), 1))))"
      ],
      "metadata": {
        "colab": {
          "base_uri": "https://localhost:8080/",
          "height": 558
        },
        "id": "6EH400Uf9pZt",
        "outputId": "ae381ff8-69c8-48e8-9095-5f43bc17e97a"
      },
      "execution_count": 44,
      "outputs": [
        {
          "output_type": "error",
          "ename": "ValueError",
          "evalue": "ignored",
          "traceback": [
            "\u001b[0;31m---------------------------------------------------------------------------\u001b[0m",
            "\u001b[0;31mValueError\u001b[0m                                Traceback (most recent call last)",
            "\u001b[0;32m<ipython-input-44-036c16dd5562>\u001b[0m in \u001b[0;36m<cell line: 1>\u001b[0;34m()\u001b[0m\n\u001b[0;32m----> 1\u001b[0;31m \u001b[0my_pred\u001b[0m \u001b[0;34m=\u001b[0m \u001b[0msc_y\u001b[0m\u001b[0;34m.\u001b[0m\u001b[0minverse_transform\u001b[0m\u001b[0;34m(\u001b[0m\u001b[0mregressor\u001b[0m\u001b[0;34m.\u001b[0m\u001b[0mpredict\u001b[0m\u001b[0;34m(\u001b[0m\u001b[0msc_x\u001b[0m\u001b[0;34m.\u001b[0m\u001b[0mtransform\u001b[0m\u001b[0;34m(\u001b[0m\u001b[0mX_test\u001b[0m\u001b[0;34m)\u001b[0m\u001b[0;34m)\u001b[0m\u001b[0;34m)\u001b[0m\u001b[0;34m\u001b[0m\u001b[0;34m\u001b[0m\u001b[0m\n\u001b[0m\u001b[1;32m      2\u001b[0m \u001b[0mnp\u001b[0m\u001b[0;34m.\u001b[0m\u001b[0mset_printoptions\u001b[0m\u001b[0;34m(\u001b[0m\u001b[0mprecision\u001b[0m\u001b[0;34m=\u001b[0m\u001b[0;36m2\u001b[0m\u001b[0;34m)\u001b[0m\u001b[0;34m\u001b[0m\u001b[0;34m\u001b[0m\u001b[0m\n\u001b[1;32m      3\u001b[0m \u001b[0mprint\u001b[0m\u001b[0;34m(\u001b[0m\u001b[0mnp\u001b[0m\u001b[0;34m.\u001b[0m\u001b[0mconcatenate\u001b[0m\u001b[0;34m(\u001b[0m\u001b[0;34m(\u001b[0m\u001b[0my_pred\u001b[0m\u001b[0;34m.\u001b[0m\u001b[0mreshape\u001b[0m\u001b[0;34m(\u001b[0m\u001b[0mlen\u001b[0m\u001b[0;34m(\u001b[0m\u001b[0my_pred\u001b[0m\u001b[0;34m)\u001b[0m\u001b[0;34m,\u001b[0m \u001b[0;36m1\u001b[0m\u001b[0;34m)\u001b[0m\u001b[0;34m,\u001b[0m \u001b[0my_test\u001b[0m\u001b[0;34m.\u001b[0m\u001b[0mrehape\u001b[0m\u001b[0;34m(\u001b[0m\u001b[0mlen\u001b[0m\u001b[0;34m(\u001b[0m\u001b[0my_test\u001b[0m\u001b[0;34m)\u001b[0m\u001b[0;34m,\u001b[0m \u001b[0;36m1\u001b[0m\u001b[0;34m)\u001b[0m\u001b[0;34m)\u001b[0m\u001b[0;34m)\u001b[0m\u001b[0;34m)\u001b[0m\u001b[0;34m\u001b[0m\u001b[0;34m\u001b[0m\u001b[0m\n",
            "\u001b[0;32m/usr/local/lib/python3.9/dist-packages/sklearn/preprocessing/_data.py\u001b[0m in \u001b[0;36minverse_transform\u001b[0;34m(self, X, copy)\u001b[0m\n\u001b[1;32m   1032\u001b[0m \u001b[0;34m\u001b[0m\u001b[0m\n\u001b[1;32m   1033\u001b[0m         \u001b[0mcopy\u001b[0m \u001b[0;34m=\u001b[0m \u001b[0mcopy\u001b[0m \u001b[0;32mif\u001b[0m \u001b[0mcopy\u001b[0m \u001b[0;32mis\u001b[0m \u001b[0;32mnot\u001b[0m \u001b[0;32mNone\u001b[0m \u001b[0;32melse\u001b[0m \u001b[0mself\u001b[0m\u001b[0;34m.\u001b[0m\u001b[0mcopy\u001b[0m\u001b[0;34m\u001b[0m\u001b[0;34m\u001b[0m\u001b[0m\n\u001b[0;32m-> 1034\u001b[0;31m         X = check_array(\n\u001b[0m\u001b[1;32m   1035\u001b[0m             \u001b[0mX\u001b[0m\u001b[0;34m,\u001b[0m\u001b[0;34m\u001b[0m\u001b[0;34m\u001b[0m\u001b[0m\n\u001b[1;32m   1036\u001b[0m             \u001b[0maccept_sparse\u001b[0m\u001b[0;34m=\u001b[0m\u001b[0;34m\"csr\"\u001b[0m\u001b[0;34m,\u001b[0m\u001b[0;34m\u001b[0m\u001b[0;34m\u001b[0m\u001b[0m\n",
            "\u001b[0;32m/usr/local/lib/python3.9/dist-packages/sklearn/utils/validation.py\u001b[0m in \u001b[0;36mcheck_array\u001b[0;34m(array, accept_sparse, accept_large_sparse, dtype, order, copy, force_all_finite, ensure_2d, allow_nd, ensure_min_samples, ensure_min_features, estimator, input_name)\u001b[0m\n\u001b[1;32m    900\u001b[0m             \u001b[0;31m# If input is 1D raise error\u001b[0m\u001b[0;34m\u001b[0m\u001b[0;34m\u001b[0m\u001b[0m\n\u001b[1;32m    901\u001b[0m             \u001b[0;32mif\u001b[0m \u001b[0marray\u001b[0m\u001b[0;34m.\u001b[0m\u001b[0mndim\u001b[0m \u001b[0;34m==\u001b[0m \u001b[0;36m1\u001b[0m\u001b[0;34m:\u001b[0m\u001b[0;34m\u001b[0m\u001b[0;34m\u001b[0m\u001b[0m\n\u001b[0;32m--> 902\u001b[0;31m                 raise ValueError(\n\u001b[0m\u001b[1;32m    903\u001b[0m                     \u001b[0;34m\"Expected 2D array, got 1D array instead:\\narray={}.\\n\"\u001b[0m\u001b[0;34m\u001b[0m\u001b[0;34m\u001b[0m\u001b[0m\n\u001b[1;32m    904\u001b[0m                     \u001b[0;34m\"Reshape your data either using array.reshape(-1, 1) if \"\u001b[0m\u001b[0;34m\u001b[0m\u001b[0;34m\u001b[0m\u001b[0m\n",
            "\u001b[0;31mValueError\u001b[0m: Expected 2D array, got 1D array instead:\narray=[-0.51402477 -0.06790167 -0.00129973 -0.05659866  0.03922851 -0.44306128\n -0.55020851 -0.4510927  -0.66199156 -0.6221312   0.14607555 -0.2149928\n -0.42165366 -0.16752322 -0.25360715 -0.03070679 -0.31591791 -0.09792665\n -0.62135195 -0.38037292 -0.11227181  0.44180026 -0.10363613 -0.48934615\n -0.16648762 -0.12636204 -0.24522663  0.44042338 -0.22332495  0.43651636\n -0.22177642 -0.01375416 -0.52470598 -0.2882943  -0.39687367  0.3641901\n  0.31415166 -0.27157955 -0.62412496 -0.29553957 -0.44264198 -0.49196125\n -0.33934788 -0.34253064 -0.37499297 -0.22746391 -0.34642627 -0.25042194\n -0.32143222 -0.66591123].\nReshape your data either using array.reshape(-1, 1) if your data has a single feature or array.reshape(1, -1) if it contains a single sample."
          ]
        }
      ]
    },
    {
      "cell_type": "markdown",
      "source": [
        "Evaluating the model performance"
      ],
      "metadata": {
        "id": "QOg5m0qQAfJ_"
      }
    },
    {
      "cell_type": "code",
      "source": [
        "from sklearn.metrics import r2_score\n",
        "r2_score(y_test, y_pred)"
      ],
      "metadata": {
        "colab": {
          "base_uri": "https://localhost:8080/",
          "height": 189
        },
        "id": "QsIzqn6bAVQW",
        "outputId": "4e80feaf-eb98-4fe0-d2f0-584995b47cf5"
      },
      "execution_count": 45,
      "outputs": [
        {
          "output_type": "error",
          "ename": "NameError",
          "evalue": "ignored",
          "traceback": [
            "\u001b[0;31m---------------------------------------------------------------------------\u001b[0m",
            "\u001b[0;31mNameError\u001b[0m                                 Traceback (most recent call last)",
            "\u001b[0;32m<ipython-input-45-7fcfd38683ff>\u001b[0m in \u001b[0;36m<cell line: 2>\u001b[0;34m()\u001b[0m\n\u001b[1;32m      1\u001b[0m \u001b[0;32mfrom\u001b[0m \u001b[0msklearn\u001b[0m\u001b[0;34m.\u001b[0m\u001b[0mmetrics\u001b[0m \u001b[0;32mimport\u001b[0m \u001b[0mr2_score\u001b[0m\u001b[0;34m\u001b[0m\u001b[0;34m\u001b[0m\u001b[0m\n\u001b[0;32m----> 2\u001b[0;31m \u001b[0mr2_score\u001b[0m\u001b[0;34m(\u001b[0m\u001b[0my_test\u001b[0m\u001b[0;34m,\u001b[0m \u001b[0my_pred\u001b[0m\u001b[0;34m)\u001b[0m\u001b[0;34m\u001b[0m\u001b[0;34m\u001b[0m\u001b[0m\n\u001b[0m",
            "\u001b[0;31mNameError\u001b[0m: name 'y_pred' is not defined"
          ]
        }
      ]
    }
  ]
}